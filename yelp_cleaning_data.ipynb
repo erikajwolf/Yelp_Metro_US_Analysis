{
 "cells": [
  {
   "cell_type": "code",
   "execution_count": 1,
   "id": "ef69c9d8",
   "metadata": {},
   "outputs": [
    {
     "data": {
      "text/plain": [
       "'2.27.1'"
      ]
     },
     "execution_count": 1,
     "metadata": {},
     "output_type": "execute_result"
    }
   ],
   "source": [
    "# Import Dependencies\n",
    "import requests\n",
    "import numpy as np\n",
    "import pandas as pd\n",
    "import os\n",
    "import json\n",
    "from sqlalchemy import create_engine\n",
    "import psycopg2\n",
    "import matplotlib as mpl\n",
    "import matplotlib.pyplot as plt\n",
    "import seaborn as sns\n",
    "import missingno as msno\n",
    "from sklearn.decomposition import PCA\n",
    "from sklearn.cluster import KMeans\n",
    "%matplotlib inline\n",
    "inline_rc = dict(mpl.rcParams)\n",
    "\n",
    "\n",
    "requests.__version__"
   ]
  },
  {
   "cell_type": "code",
   "execution_count": 2,
   "id": "84a778fe",
   "metadata": {},
   "outputs": [],
   "source": [
    "file_dir = 'C:/Users/kidas/OneDrive/Desktop/Dataclass2/Yelp_Metro_US_Analysis/'"
   ]
  },
  {
   "cell_type": "code",
   "execution_count": 3,
   "id": "9379004c",
   "metadata": {},
   "outputs": [
    {
     "name": "stdout",
     "output_type": "stream",
     "text": [
      "C:\\Users\\kidas\\OneDrive\\Desktop\\Yelp_Metro_US_Analysis\n"
     ]
    }
   ],
   "source": [
    "import os\n",
    "print(os.getcwd())\n",
    "\n",
    "\n",
    "\n"
   ]
  },
  {
   "cell_type": "code",
   "execution_count": 4,
   "id": "c00a2dbf",
   "metadata": {},
   "outputs": [
    {
     "data": {
      "text/html": [
       "<div>\n",
       "<style scoped>\n",
       "    .dataframe tbody tr th:only-of-type {\n",
       "        vertical-align: middle;\n",
       "    }\n",
       "\n",
       "    .dataframe tbody tr th {\n",
       "        vertical-align: top;\n",
       "    }\n",
       "\n",
       "    .dataframe thead th {\n",
       "        text-align: right;\n",
       "    }\n",
       "</style>\n",
       "<table border=\"1\" class=\"dataframe\">\n",
       "  <thead>\n",
       "    <tr style=\"text-align: right;\">\n",
       "      <th></th>\n",
       "      <th>data</th>\n",
       "    </tr>\n",
       "  </thead>\n",
       "  <tbody>\n",
       "    <tr>\n",
       "      <th>0</th>\n",
       "      <td>{'10002': [{'alias': 'yes-apothecary-new-york-...</td>\n",
       "    </tr>\n",
       "    <tr>\n",
       "      <th>1</th>\n",
       "      <td>{'10023': [{'alias': 'ella-social-new-york', '...</td>\n",
       "    </tr>\n",
       "    <tr>\n",
       "      <th>2</th>\n",
       "      <td>{'10025': [{'alias': 'nobody-told-me-new-york'...</td>\n",
       "    </tr>\n",
       "    <tr>\n",
       "      <th>3</th>\n",
       "      <td>{'10029': [{'alias': 'contento-new-york-city',...</td>\n",
       "    </tr>\n",
       "    <tr>\n",
       "      <th>4</th>\n",
       "      <td>{'10306': [{'alias': 'siu-kitchen-staten-islan...</td>\n",
       "    </tr>\n",
       "    <tr>\n",
       "      <th>...</th>\n",
       "      <td>...</td>\n",
       "    </tr>\n",
       "    <tr>\n",
       "      <th>94</th>\n",
       "      <td>{'98208': [{'alias': 'swish-swish-lynnwood', '...</td>\n",
       "    </tr>\n",
       "    <tr>\n",
       "      <th>95</th>\n",
       "      <td>{'98391': [{'alias': 'purdys-public-house-sumn...</td>\n",
       "    </tr>\n",
       "    <tr>\n",
       "      <th>96</th>\n",
       "      <td>{'98682': [{'alias': 'stonewood-bar-and-grill-...</td>\n",
       "    </tr>\n",
       "    <tr>\n",
       "      <th>97</th>\n",
       "      <td>{'99208': [{'alias': 'cascadia-public-house-sp...</td>\n",
       "    </tr>\n",
       "    <tr>\n",
       "      <th>98</th>\n",
       "      <td>{'99301': [{'alias': 'la-bella-vita-kitchen-an...</td>\n",
       "    </tr>\n",
       "  </tbody>\n",
       "</table>\n",
       "<p>99 rows × 1 columns</p>\n",
       "</div>"
      ],
      "text/plain": [
       "                                                 data\n",
       "0   {'10002': [{'alias': 'yes-apothecary-new-york-...\n",
       "1   {'10023': [{'alias': 'ella-social-new-york', '...\n",
       "2   {'10025': [{'alias': 'nobody-told-me-new-york'...\n",
       "3   {'10029': [{'alias': 'contento-new-york-city',...\n",
       "4   {'10306': [{'alias': 'siu-kitchen-staten-islan...\n",
       "..                                                ...\n",
       "94  {'98208': [{'alias': 'swish-swish-lynnwood', '...\n",
       "95  {'98391': [{'alias': 'purdys-public-house-sumn...\n",
       "96  {'98682': [{'alias': 'stonewood-bar-and-grill-...\n",
       "97  {'99208': [{'alias': 'cascadia-public-house-sp...\n",
       "98  {'99301': [{'alias': 'la-bella-vita-kitchen-an...\n",
       "\n",
       "[99 rows x 1 columns]"
      ]
     },
     "execution_count": 4,
     "metadata": {},
     "output_type": "execute_result"
    }
   ],
   "source": [
    "# Create file directory variable (update directory)\n",
    "file_dir = 'C:/Users/kidas/OneDrive/Desktop/Dataclass2/Yelp_Metro_US_Analysis/'\n",
    "# load json file to read\n",
    "with open (f'{file_dir}data_file.json',mode = 'r', encoding=\"utf-8\") as file:\n",
    "    #yelp_raw_data = pd.read_json(file, lines=True)\n",
    "    #yelp_raw_data=ast.literal_eval(json.load(file))\n",
    "    #pd.DataFrame(\n",
    "    #yelp_raw_data=pd.read_json(codecs.open('C:/Users/kidas/OneDrive/Desktop/Dataclass2/Yelp_Metro_US_Analysis/data_file.json','r','utf-8'), lines=True, orient='records')\n",
    "    yelp_raw_data=json.load(file)\n",
    "    yelp_panda_data=pd.DataFrame(yelp_raw_data)\n",
    "yelp_panda_data"
   ]
  },
  {
   "cell_type": "code",
   "execution_count": 5,
   "id": "24f793ee",
   "metadata": {
    "scrolled": true
   },
   "outputs": [
    {
     "data": {
      "text/plain": [
       "['data']"
      ]
     },
     "execution_count": 5,
     "metadata": {},
     "output_type": "execute_result"
    }
   ],
   "source": [
    "yelp_panda_data.columns.tolist()\n"
   ]
  },
  {
   "cell_type": "code",
   "execution_count": 9,
   "id": "7c16ecb5",
   "metadata": {},
   "outputs": [],
   "source": [
    "yelp_data_df=pd.DataFrame(yelp_panda_data)"
   ]
  },
  {
   "cell_type": "code",
   "execution_count": 11,
   "id": "2acd853a",
   "metadata": {},
   "outputs": [
    {
     "data": {
      "text/plain": [
       "99"
      ]
     },
     "execution_count": 11,
     "metadata": {},
     "output_type": "execute_result"
    }
   ],
   "source": [
    "len(yelp_panda_data)"
   ]
  },
  {
   "cell_type": "code",
   "execution_count": 11,
   "id": "00a1fdae",
   "metadata": {},
   "outputs": [
    {
     "data": {
      "text/plain": [
       "data    99\n",
       "dtype: int64"
      ]
     },
     "execution_count": 11,
     "metadata": {},
     "output_type": "execute_result"
    }
   ],
   "source": [
    "yelp_data_df.count()"
   ]
  },
  {
   "cell_type": "code",
   "execution_count": null,
   "id": "4a58cb54",
   "metadata": {},
   "outputs": [],
   "source": []
  },
  {
   "cell_type": "code",
   "execution_count": 37,
   "id": "9217412e",
   "metadata": {},
   "outputs": [],
   "source": [
    "# #  Add the clean yelp data function that takes in the argument, \"restaurants\".\n",
    "# def clean_yelp_data_df(restaurants):\n",
    "#     restaurants = dict(restaurants) \n",
    "#     #create a non-destructive copy\n",
    "#     alt_titles = {}\n",
    "#     # combine alternate titles into one list\n",
    "#     for key in [\"business_id\",\"name\",\"address\",\n",
    "#                 \"postal_code\",\"latitude\",\"longitude\",\n",
    "#                 \"stars\",\"review_count\",\"is_open\",\n",
    "#                 \"review_id\",\"user_id\"]:\n",
    "#         if key in restaurants:\n",
    "#             alt_titles[key] = restaurants[key]\n",
    "#             restaurants.pop(key)\n",
    "#             if len(alt_titles) > 0:\n",
    "#                 restaurants['alt_titles'] = alt_titles\n",
    "\n",
    "\n",
    "#                 return restaurants     "
   ]
  },
  {
   "cell_type": "code",
   "execution_count": 1,
   "id": "e1925ed7",
   "metadata": {},
   "outputs": [],
   "source": [
    "# # 2 Add the function that takes in two arguments;\n",
    "#  # Yelp dataset , and zip code database\n",
    "\n",
    "# def extract_transform_load():\n",
    "#     #Read in the zip code database CSV files as Pandas DataFrames.\n",
    "#     city_file_df = pd.read_csv(city_file_df, low_memory=False)\n",
    "\n",
    "#     #Open and read the yelp_raw_data JSON file.\n",
    "#     with open(data_file, mode='r') as file:\n",
    "#         yelp_raw_data = json.load(file)\n",
    "        \n",
    "#         #Read in the yelp raw data as a pandas DataFrame.\n",
    "#         # 3. Write a list comprehension to filter out   .\n",
    "#         yelp_panda_data = [restaurants for restaurants in yelp_raw_data\n",
    "#                if ('Director' in restaurants or 'Directed by' in restaurant)\n",
    "#                    and '????' in restaturant] \n",
    "#         # 4. Write a list comprehension to iterate through the cleaned yelp panda data list\n",
    "#         # and call the clean_yelp_data function on each restaurant.\n",
    "#         clean_yelp_data = [clean_yelp_data(restaurant) for restaurant in yelp_panda_data]\n",
    "#       # 5. Read in the cleaned yelp data list from Step 4 as a DataFrame.\n",
    "#         yelp_data_df = pd.DataFrame(yelp_panda_data)  \n",
    "    \n",
    "        \n",
    "        \n",
    "        \n",
    "        \n",
    "       "
   ]
  },
  {
   "cell_type": "code",
   "execution_count": null,
   "id": "4335ddd2",
   "metadata": {},
   "outputs": [],
   "source": []
  },
  {
   "cell_type": "code",
   "execution_count": null,
   "id": "4ae5858f",
   "metadata": {},
   "outputs": [],
   "source": []
  },
  {
   "cell_type": "code",
   "execution_count": null,
   "id": "7419b332",
   "metadata": {},
   "outputs": [],
   "source": []
  }
 ],
 "metadata": {
  "kernelspec": {
   "display_name": "Python 3 (ipykernel)",
   "language": "python",
   "name": "python3"
  },
  "language_info": {
   "codemirror_mode": {
    "name": "ipython",
    "version": 3
   },
   "file_extension": ".py",
   "mimetype": "text/x-python",
   "name": "python",
   "nbconvert_exporter": "python",
   "pygments_lexer": "ipython3",
   "version": "3.7.13"
  }
 },
 "nbformat": 4,
 "nbformat_minor": 5
}
